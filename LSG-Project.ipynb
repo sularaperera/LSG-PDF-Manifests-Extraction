{
 "cells": [
  {
   "cell_type": "markdown",
   "id": "99bc2197",
   "metadata": {},
   "source": [
    "#### Importing Packages"
   ]
  },
  {
   "cell_type": "markdown",
   "id": "c3bf5028",
   "metadata": {},
   "source": []
  },
  {
   "cell_type": "code",
   "execution_count": 1,
   "id": "2d3a2268-d8bf-4cc3-b66e-1f0c0464dbdf",
   "metadata": {},
   "outputs": [],
   "source": [
    "import pandas as pd\n",
    "from pathlib import Path\n",
    "import glob\n",
    "from pypdf import PdfReader\n",
    "from PyPDF2 import PdfMerger\n",
    "import re\n",
    "import csv"
   ]
  },
  {
   "cell_type": "markdown",
   "id": "36773e86",
   "metadata": {},
   "source": [
    "#### Merge PDFs"
   ]
  },
  {
   "cell_type": "code",
   "execution_count": 17,
   "id": "dc4eab40-aeeb-4275-8e63-88a4151c8ae3",
   "metadata": {},
   "outputs": [],
   "source": [
    "folder_path = Path(r'C:\\Users\\sular\\OneDrive\\1.Data Analysis & Engineering\\Data Engineering\\Data Engineering Projects\\LSG-PDF-Manifests-Extraction-Python\\Data')"
   ]
  },
  {
   "cell_type": "code",
   "execution_count": 18,
   "id": "d6c9e4fa",
   "metadata": {},
   "outputs": [
    {
     "data": {
      "text/plain": [
       "[WindowsPath('C:/Users/sular/OneDrive/1.Data Analysis & Engineering/Data Engineering/Data Engineering Projects/LSG-PDF-Manifests-Extraction-Python/Data/Run Manifest (1).pdf'),\n",
       " WindowsPath('C:/Users/sular/OneDrive/1.Data Analysis & Engineering/Data Engineering/Data Engineering Projects/LSG-PDF-Manifests-Extraction-Python/Data/Run Manifest.pdf')]"
      ]
     },
     "execution_count": 18,
     "metadata": {},
     "output_type": "execute_result"
    }
   ],
   "source": [
    "list(folder_path.rglob('*.pdf'))"
   ]
  },
  {
   "cell_type": "code",
   "execution_count": 20,
   "id": "bc34ce87",
   "metadata": {},
   "outputs": [],
   "source": [
    "# Create an instance of PdfMerger() class\n",
    "merger = PdfMerger()\n",
    "\n",
    "# loop through individual pdf files in folder path and append all pdfs together\n",
    "for file_name in folder_path.rglob('*'):\n",
    "    # print(file_name)\n",
    "    merger.append(file_name)\n",
    "\n",
    "# exporting all appended pdfs as \"Final.pdf\"\n",
    "merger.write(\"Final.pdf\")\n",
    "merger.close()"
   ]
  },
  {
   "cell_type": "code",
   "execution_count": 21,
   "id": "8bb7adb8-4653-4568-8a2e-2b692a5d4388",
   "metadata": {},
   "outputs": [],
   "source": [
    "file_path = 'Final.pdf'"
   ]
  },
  {
   "cell_type": "markdown",
   "id": "0da86f32",
   "metadata": {},
   "source": [
    "#### Read PDF"
   ]
  },
  {
   "cell_type": "code",
   "execution_count": 23,
   "id": "93b5905b",
   "metadata": {},
   "outputs": [
    {
     "name": "stdout",
     "output_type": "stream",
     "text": [
      "['RUN MANIFEST EXPORTDespatch Date : 11/08/2023\\nDeliver To Name Delivery Address 1Run : 120PPL - Taupo (EVENING)\\nCommentsCartUnt Delivery Town Ties Reference # TempSignature Frz.CtnFrz.Tie\\n58-70 Main Road (SH1), Tirau BP Connect Tirau 1080429 2000\\nMain Road, SH1 Tokoroa BP Connect Tokoroa 1080736 1000\\n48-50 Heuheu Street, Taupo BP Connect Taupo 1 1079677 2000\\nSH 1, Taupo, Opposite the Wairakei BP Connect Wairakei Wairakei 1079960 1000\\nCnr Fenton & Foude Sts,, Rotorua BP Connect Geyser 1 1079599 2000\\n346 -352 Te Ngae Rd, Rotorua BP Connect Lynmore Junction 1079906 1000\\n80 Fairy Springs Road, Rotorua BP Connect Fairy Springs 1080772 1000\\n2219 Gordonton Road,, Taupiri BP Connect Taupiri 1079951 2000\\nSH1, CAMBRIDGE BP Connect Cambridge 1 1080613 1000\\nComment 0 13 00', 'RUN MANIFEST EXPORTDespatch Date : 11/08/2023\\nDeliver To Name Delivery Address 1Run : 121PPL - BOP (EVENING)\\nCommentsCartUnt Delivery Town Ties Reference # TempSignature Frz.CtnFrz.Tie\\n1 Taurikura Drive, Tauriko BP Connect Tauriko Tauranga 3171 1079686 2000\\nCameron Road, Tauranga BP Connect Tauranga 1080486 1000\\n570 Maunganui Rd, Mt Maunganui BP Connect Mount Maunganui 1080673 1000\\nState Highway 2, Te Puna BP Connect Te Puna TAURANGA 1079337 1000\\n29 Rosemont Road, State Highway 2 BP Connect Waihi Waihi 1080748 1000\\n19 Bethlehem Road,, SH2,Tauranga BP Connect Bethlehem 1080595 1000\\n48 Bruce Road, Papamoa BP Connect Bruce Road Tauranga 1080610 1000\\nComment 08 00', 'RUN MANIFEST EXPORTDespatch Date : 11/08/2023\\nDeliver To Name Delivery Address 1Run : 122PPL - Hamilton (EVENING)\\nCommentsCartUnt Delivery Town Ties Reference # TempSignature Frz.CtnFrz.Tie\\n446 Te Rapa Road, Hamilton Bunnings Te Rapa (Hamilton)  9474 1080386 1020\\nCnr Massey Rd & Lincoln St, Frankton BP Connect Frankton Hamilton 1080625 1000\\n11A Quentin Drive,, Hamilton Lake, Bunnings South Hamilton 9527 Hamilton 1081013 1010\\n214 Ohaupu Road, Glenview BP Connect Glenview Hamilton 3206 1080628 1000\\n100 Tristram St, HAMILTON BP Connect Tristram 1079695 1000\\nCnr Ulster & Victoria St, Whitiora BP Connect Whitiora Hamilton 1080568 1000\\nCnr Thomas & Horsham Downs Rd, BP Connect Horsham Downs 1080457 1000\\nGt South Rd, Ngaruawahia BP Connect Ngaruawahia 1 1080782 1000\\nComment 08 30', 'RUN MANIFEST EXPORTDespatch Date : 11/08/2023\\nDeliver To Name Delivery Address 1Run : 940PPL - AKL West (EVENING)\\nCommentsCartUnt Delivery Town Ties Reference # TempSignature Frz.CtnFrz.Tie\\nCnr Portage Rd & Clark St, New Lynn BP Connect Junction Auckland 1080463 1000\\nNorcross & Te Atatu Rds, Glendene BP Connect Glendene Auckland 1079858 1000\\nCnr Swanson & Larnoch Roads, BP Connect Larnoch 1079885 1000\\n136 Lincoln Road, Henderson BP Connect Lincoln Road Auckland 1080778 1000\\n50-52 Bringham Creek Road, BP Connect Whenuapai Auckland 1079978 1000\\n116 Hobsonville Road,, Hobsonville BP Connect Hobsonville 1080133 1000\\n975 New North Rd, Mt Albert BP Connect Mercury Auckland 1080466 1000\\n2 Carr Rd, Mt Roskill Bunnings Mt Roskill 9510 Auckland 1041 1081014 1010\\n538 Main Road,, Kumeu 0892 BP Connect Kumeu 1079879 1000\\nComment 09 10', 'RUN MANIFEST EXPORTDespatch Date : 11/08/2023\\nDeliver To Name Delivery Address 1Run : 941PPL - AKL South\\nCommentsCartUnt Delivery Town Ties Reference # TempSignature Frz.CtnFrz.Tie\\n203 Cavendish Drive , Manukau Mobil Cavendish Auckland 1081011 0010\\n116 Cavendish Drive, Manukau City BP Connect Cavendish Auckland 1080616 1000\\nGreat South Rd, Manukau BP Connect Pacific Auckland 1080563 1000\\n199 Weymouth Road, Manurewa BP Connect Weymouth Auckland 1079972 1000\\n102 Great South Road, Takanini BP Connect Takanini Auckland 1080727 1000\\nSouthern Motorway, Drury BP Connect Papakura MSA 1 Auckland 1080784 2000\\nMill Rd, SH1, Bombay BP Connect Bombay 1 1080604 1000\\nCnr Tobin St & Edinburgh St, BP Connect Counties Auckland 1080448 1000\\n300 Te Irirangi Drive, Manukau City BP Connect Flat Bush 1080622 1000\\n255 Ormiston Rd, Flat Bush BP Connect Ormiston Auckland 1079413 1000\\n154 Coronation Rd, Mangere Bridge BP Connect Mangere Auckland 1080661 1000\\nComment 0 11 10', 'RUN MANIFEST EXPORTDespatch Date : 11/08/2023\\nDeliver To Name Delivery Address 1Run : 942PPL - AKL North\\nCommentsCartUnt Delivery Town Ties Reference # TempSignature Frz.CtnFrz.Tie\\n67 Onewa Road,, Northcote, BP Franchise Onewa Auckland 0627 1080436 1000\\n172-178 Mokoia Road, Birkenhead BP Connect Birkenhead Auckland 1080766 1000\\n297 Lake Road, Takapuna BP Connect Clifton Auckland 1080500 1000\\n2 Northcote Rd/64-66 Taharoto Rd, BP Connect Smales Auckland 1080718 1000\\n127 Wairau Rd, Takapuna BP Connect Coventry Auckland 1079384 1000\\nCNR Rosedale Rd & Apollo Drive, BP Connect Rosedale Auckland 0632 1080712 1000\\n1356 Great North Rd, Waterview BP Connect Waterview Auckland 1080579 1000\\n136 Jervois Rd, Herne Bay BP Connect Herne Bay Auckland 1080637 1000\\n104 Fanshawe Street, Auckland BP Connect Fanshawe St 1080539 1000\\n272/302 Great North Rd,, Grey Lynn, Bunnings Grey Lynn 9518 Auckland 1021 1081040 1010\\n43 Albany Highway, Rosedale BP Connect Albany Highway Auckland 1080492 1000\\nComment 0 11 10', 'RUN MANIFEST EXPORTDespatch Date : 11/08/2023\\nDeliver To Name Delivery Address 1Run : 943PPL - AKL Morning\\nCommentsCartUnt Delivery Town Ties Reference # TempSignature Frz.CtnFrz.Tie\\nLady Marie Drive,, Lloyd Elsmore Park Auckland Hockey Pakuranga Auckland 1081042 1000\\n80 Wairau Road, Glenfield Bunnings Glenfield 9491 Auckland 0627 1080262 1010\\n15 Home Place, Constellation Drive Bunnings North Shore-9470 Auckland 1080497 1010\\n111 Quay Street, Auckland Fullers Group Ltd 1080320 2010 0\\n142 Halsey St, Auckland Wynyard Mart 1080064 1000\\n30 Ara tai Drive, Half Moon Bay Sealink HMB Office 1080065 0010 0\\n44 Totara Avenue, New Lynn Station Mart-New Lynn Auckland 1080846 0020\\nTenancy G 107, International Terminal Takehome Auckland Airport 1080850 1010\\n30 Ara tai Drive, Half Moon Bay Sealink Seaquest 1080069 1000\\n30 Ara tai Drive, Half Moon Bay Sealink Seaway 1080070 1000\\nComment 09 25 0', 'RUN MANIFEST EXPORTDespatch Date : 11/08/2023\\nDeliver To Name Delivery Address 1Run : 944PPL - AKL East/Central\\nCommentsCartUnt Delivery Town Ties Reference # TempSignature Frz.CtnFrz.Tie\\n500 Chapel Rd, Botany BP Connect East Tamaki 1080769 1000\\n136 Ridge Rd, Howick BP Connect Howick Auckland 1080560 1000\\n322-330 Pakuranga Rd, Pakuranga BP Connect Pakuranga Auckland 1080475 1000\\n93 Greenlane East, Remuera, BP Connect Greenlane Auckland 1050 1080775 1000\\n171 Main Highway,, Ellerslie Auckland BP Franchise Ellerslie 1080795 1000\\n468-476 Great South Rd, Greenlane BP Connect Boulevard Auckland 1080607 1000\\nCnr Crowhurst St & Khyber Pass, BP Connect Newmarket 1 AUCKLAND 1080676 2000\\n110 Lunn Ave, Mount Wellington BP Connect Lunn Ave Auckland 1080652 1000\\nCnr Massey Rd & Grey Ave, Mangere BP Connect Massey Rd Auckland 1079918 1000\\n267 Mt Smart Road, Onehunga BP Franchise Mt Smart 1079369 1000\\n459 Ellerslie Panmure Highway, Mt Bunnings Mt Wellington 9493 Auckland 1080396 1000\\n320 Ti Rakau Drive, Pakuranga 2010 Bunnings Botany 9453 1080849 1010\\nComment 0 13 10', 'RUN MANIFEST EXPORTDespatch Date : 11/08/2023\\nDeliver To Name Delivery Address 1Run : 945PPL - AKL Whangarei\\nCommentsCartUnt Delivery Town Ties Reference # TempSignature Frz.CtnFrz.Tie\\nSH1, Dairy Flat BP Connect Dairy Flat MSA 1 Auckland 1080619 3000\\n219 - 225 Wainui Rd, Millwater BP Connect Millwater Auckland 1080670 1000\\n270 Main Rd, Orewa BP Connect Orewa 1080679 1000\\n701 Whangaparaoa Rd, BP Connect Whangaparoa 1080763 1000\\nState Highway 1, Silverdale BP Connect Silverdale Whangaparaoa 1080478 1000\\n67 Auckland Road (SH1), Warkworth BP Connect Warkworth 1080757 1000\\n121 Riverside Drive, WHANGAREI BP Connect Riverside 1080700 1000\\n49 Maunu Rd, Whangarei BP Connect Wylies 1080489 1000\\n50 Northcote Road, Hillcrest BP Franchise Motor Centre Auckland 0627 1080797 1000\\nComment 0 11 00']\n"
     ]
    }
   ],
   "source": [
    "# Using PdfReader to read the \"Final.pdf\"\n",
    "reader = PdfReader(file_path)\n",
    "\n",
    "# Iterate through all the pages in \"Final.pdf\" and extract text on each page and append to a list\n",
    "full_text = []\n",
    "for p in range(len(reader.pages)):\n",
    "    page = reader.pages[p]\n",
    "    # print(page.extract_text())\n",
    "    lsg_text = page.extract_text()\n",
    "    full_text.append(lsg_text)\n",
    "\n",
    "print(full_text)"
   ]
  },
  {
   "cell_type": "code",
   "execution_count": 24,
   "id": "e5bd5226",
   "metadata": {},
   "outputs": [
    {
     "data": {
      "text/plain": [
       "list"
      ]
     },
     "execution_count": 24,
     "metadata": {},
     "output_type": "execute_result"
    }
   ],
   "source": [
    "type(full_text)"
   ]
  },
  {
   "cell_type": "code",
   "execution_count": 25,
   "id": "d022a578",
   "metadata": {},
   "outputs": [],
   "source": [
    "# converting list items to string\n",
    "text_string = ''.join(full_text)"
   ]
  },
  {
   "cell_type": "code",
   "execution_count": 26,
   "id": "e4acacc7",
   "metadata": {},
   "outputs": [
    {
     "data": {
      "text/plain": [
       "str"
      ]
     },
     "execution_count": 26,
     "metadata": {},
     "output_type": "execute_result"
    }
   ],
   "source": [
    "type(text_string)"
   ]
  },
  {
   "cell_type": "markdown",
   "id": "972abd86",
   "metadata": {},
   "source": [
    "#### Text Extraction"
   ]
  },
  {
   "cell_type": "code",
   "execution_count": 27,
   "id": "2c4aba82",
   "metadata": {},
   "outputs": [
    {
     "name": "stdout",
     "output_type": "stream",
     "text": [
      "['1080429 2000', '1080736 1000', '1079677 2000', '1079960 1000', '1079599 2000', '1079906 1000', '1080772 1000', '1079951 2000', '1080613 1000', '1079686 2000', '1080486 1000', '1080673 1000', '1079337 1000', '1080748 1000', '1080595 1000', '1080610 1000', '1080386 1020', '1080625 1000', '1081013 1010', '1080628 1000', '1079695 1000', '1080568 1000', '1080457 1000', '1080782 1000', '1080463 1000', '1079858 1000', '1079885 1000', '1080778 1000', '1079978 1000', '1080133 1000', '1080466 1000', '1081014 1010', '1079879 1000', '1081011 0010', '1080616 1000', '1080563 1000', '1079972 1000', '1080727 1000', '1080784 2000', '1080604 1000', '1080448 1000', '1080622 1000', '1079413 1000', '1080661 1000', '1080436 1000', '1080766 1000', '1080500 1000', '1080718 1000', '1079384 1000', '1080712 1000', '1080579 1000', '1080637 1000', '1080539 1000', '1081040 1010', '1080492 1000', '1081042 1000', '1080262 1010', '1080497 1010', '1080320 2010', '1080064 1000', '1080065 0010', '1080846 0020', '1080850 1010', '1080069 1000', '1080070 1000', '1080769 1000', '1080560 1000', '1080475 1000', '1080775 1000', '1080795 1000', '1080607 1000', '1080676 2000', '1080652 1000', '1079918 1000', '1079369 1000', '1080396 1000', '1080849 1010', '1080619 3000', '1080670 1000', '1080679 1000', '1080763 1000', '1080478 1000', '1080757 1000', '1080700 1000', '1080489 1000', '1080797 1000']\n"
     ]
    }
   ],
   "source": [
    "# Use of regex to extract text having certain pattern\n",
    "\n",
    "pattern = r'\\b\\d{7}\\b.*\\b\\d{4}\\b'\n",
    "matches = re.findall(pattern, text_string)\n",
    "\n",
    "print(matches)"
   ]
  },
  {
   "cell_type": "code",
   "execution_count": 28,
   "id": "361e7e63",
   "metadata": {},
   "outputs": [
    {
     "name": "stdout",
     "output_type": "stream",
     "text": [
      "First numbers: ['1080429', '1080736', '1079677', '1079960', '1079599', '1079906', '1080772', '1079951', '1080613', '1079686', '1080486', '1080673', '1079337', '1080748', '1080595', '1080610', '1080386', '1080625', '1081013', '1080628', '1079695', '1080568', '1080457', '1080782', '1080463', '1079858', '1079885', '1080778', '1079978', '1080133', '1080466', '1081014', '1079879', '1081011', '1080616', '1080563', '1079972', '1080727', '1080784', '1080604', '1080448', '1080622', '1079413', '1080661', '1080436', '1080766', '1080500', '1080718', '1079384', '1080712', '1080579', '1080637', '1080539', '1081040', '1080492', '1081042', '1080262', '1080497', '1080320', '1080064', '1080065', '1080846', '1080850', '1080069', '1080070', '1080769', '1080560', '1080475', '1080775', '1080795', '1080607', '1080676', '1080652', '1079918', '1079369', '1080396', '1080849', '1080619', '1080670', '1080679', '1080763', '1080478', '1080757', '1080700', '1080489', '1080797']\n",
      "Second numbers: ['2000', '1000', '2000', '1000', '2000', '1000', '1000', '2000', '1000', '2000', '1000', '1000', '1000', '1000', '1000', '1000', '1020', '1000', '1010', '1000', '1000', '1000', '1000', '1000', '1000', '1000', '1000', '1000', '1000', '1000', '1000', '1010', '1000', '0010', '1000', '1000', '1000', '1000', '2000', '1000', '1000', '1000', '1000', '1000', '1000', '1000', '1000', '1000', '1000', '1000', '1000', '1000', '1000', '1010', '1000', '1000', '1010', '1010', '2010', '1000', '0010', '0020', '1010', '1000', '1000', '1000', '1000', '1000', '1000', '1000', '1000', '2000', '1000', '1000', '1000', '1000', '1010', '3000', '1000', '1000', '1000', '1000', '1000', '1000', '1000', '1000']\n",
      "Total sums list: [2, 1, 2, 1, 2, 1, 1, 2, 1, 2, 1, 1, 1, 1, 1, 1, 3, 1, 2, 1, 1, 1, 1, 1, 1, 1, 1, 1, 1, 1, 1, 2, 1, 1, 1, 1, 1, 1, 2, 1, 1, 1, 1, 1, 1, 1, 1, 1, 1, 1, 1, 1, 1, 2, 1, 1, 2, 2, 3, 1, 1, 2, 2, 1, 1, 1, 1, 1, 1, 1, 1, 2, 1, 1, 1, 1, 2, 3, 1, 1, 1, 1, 1, 1, 1, 1]\n"
     ]
    }
   ],
   "source": [
    "first_numbers = []\n",
    "second_numbers = []\n",
    "\n",
    "for item in matches:\n",
    "    first, second = item.split()\n",
    "    # first, second = map(int, item.split())\n",
    "    first_numbers.append(first)\n",
    "    second_numbers.append(second)\n",
    "\n",
    "print(\"First numbers:\", first_numbers)\n",
    "print(\"Second numbers:\", second_numbers)\n",
    "\n",
    "\n",
    "def digit_sum(number):\n",
    "    return sum(int(digit) for digit in number)\n",
    "\n",
    "total_sums = [digit_sum(num) for num in second_numbers]\n",
    "print(\"Total sums list:\", total_sums)"
   ]
  },
  {
   "cell_type": "markdown",
   "id": "309ea0ce",
   "metadata": {},
   "source": [
    "#### Exporting csv"
   ]
  },
  {
   "cell_type": "code",
   "execution_count": 29,
   "id": "b6cccc80",
   "metadata": {},
   "outputs": [
    {
     "name": "stdout",
     "output_type": "stream",
     "text": [
      "CSV file 'LSG_Quantities.csv' created.\n"
     ]
    }
   ],
   "source": [
    "csv_file = open('LSG_Quantities.csv', 'w', newline='')\n",
    "csv_writer = csv.writer(csv_file)\n",
    "csv_writer.writerow(['Sales Purchase Order Number', 'Quantities', 'Total'])\n",
    "\n",
    "for first, second, third in zip(first_numbers, second_numbers, total_sums):\n",
    "    csv_writer.writerow([first, second, third])\n",
    "\n",
    "csv_file.close()\n",
    "\n",
    "print(\"CSV file 'LSG_Quantities.csv' created.\")"
   ]
  }
 ],
 "metadata": {
  "kernelspec": {
   "display_name": "Python 3 (ipykernel)",
   "language": "python",
   "name": "python3"
  },
  "language_info": {
   "codemirror_mode": {
    "name": "ipython",
    "version": 3
   },
   "file_extension": ".py",
   "mimetype": "text/x-python",
   "name": "python",
   "nbconvert_exporter": "python",
   "pygments_lexer": "ipython3",
   "version": "3.11.4"
  }
 },
 "nbformat": 4,
 "nbformat_minor": 5
}
